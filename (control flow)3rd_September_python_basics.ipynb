{
 "cells": [
  {
   "cell_type": "code",
   "execution_count": 1,
   "id": "7f83ebfb-3561-4dad-a9b2-c92805f378b3",
   "metadata": {},
   "outputs": [
    {
     "name": "stdout",
     "output_type": "stream",
     "text": [
      "a is posative\n"
     ]
    }
   ],
   "source": [
    "#1. Write a Python program to check if a given number is positive or negative.\n",
    "a=7\n",
    "if(a>0):\n",
    "    print(\"a is posative\")\n",
    "else:\n",
    "    print(\"a is negative\")"
   ]
  },
  {
   "cell_type": "code",
   "execution_count": 3,
   "id": "4a4d17ee-fccb-4175-bd50-d142b426eff9",
   "metadata": {},
   "outputs": [
    {
     "name": "stdin",
     "output_type": "stream",
     "text": [
      "enter your age: 20\n"
     ]
    },
    {
     "name": "stdout",
     "output_type": "stream",
     "text": [
      "you are eligible for give the vote\n"
     ]
    }
   ],
   "source": [
    "#2. Create a program that determines if a person is eligible to vote based on their age.\n",
    "\n",
    "age=int(input(\"enter your age:\"))\n",
    "if(age>18):\n",
    "    print(\"you are eligible for give the vote\")\n",
    "else:\n",
    "    print(\"you are not eligible for give the vote\")\n",
    "\n",
    "\n"
   ]
  },
  {
   "cell_type": "code",
   "execution_count": 5,
   "id": "1c39be03-0a92-4e35-8ce0-f3a1c4174674",
   "metadata": {},
   "outputs": [
    {
     "name": "stdout",
     "output_type": "stream",
     "text": [
      "b is maximum\n"
     ]
    }
   ],
   "source": [
    "#3.Develop a program to find the maximum of two numbers using if-else statements.\n",
    "\n",
    "a=5\n",
    "b=6\n",
    "if(a>b):\n",
    "    print(\"a is maximum\")\n",
    "else:\n",
    "    print(\"b is maximum\")\n"
   ]
  },
  {
   "cell_type": "code",
   "execution_count": 5,
   "id": "d13fb851-5dff-4f50-b6d0-cd029469aeb3",
   "metadata": {},
   "outputs": [
    {
     "name": "stdin",
     "output_type": "stream",
     "text": [
      "enter a year: 2005\n"
     ]
    },
    {
     "name": "stdout",
     "output_type": "stream",
     "text": [
      "a is not leap year\n"
     ]
    }
   ],
   "source": [
    "#4.Write a Python script to classify a given year as a leap year or not.\n",
    "\n",
    "a=int(input(\"enter a year:\"))\n",
    "if(a%4==0):\n",
    "    print(\"a is leap year \")\n",
    "else:\n",
    "    print(\"a is not leap year\")\n",
    "\n",
    "\n",
    "\n"
   ]
  },
  {
   "cell_type": "code",
   "execution_count": 18,
   "id": "68bbb786-9cd5-4227-b66e-27c52eadb4b1",
   "metadata": {
    "scrolled": true,
    "tags": []
   },
   "outputs": [
    {
     "name": "stdin",
     "output_type": "stream",
     "text": [
      "give a character: a\n"
     ]
    },
    {
     "name": "stdout",
     "output_type": "stream",
     "text": [
      "a is a vowl\n"
     ]
    }
   ],
   "source": [
    "#5.Create a program that checks whether a character is a vowel or a consonant.\n",
    "\n",
    "char=input(\"please give a character:\")\n",
    "\n",
    "if char in \"aeiouAEIOU\":\n",
    "    print(f\"{char} is a vowl\")\n",
    "else:\n",
    "    print(f\"{char} is a consonent\")\n"
   ]
  },
  {
   "cell_type": "code",
   "execution_count": 20,
   "id": "f0088534-5574-488d-bcd4-a3accc29ca92",
   "metadata": {},
   "outputs": [
    {
     "name": "stdin",
     "output_type": "stream",
     "text": [
      "enter a number: 4\n"
     ]
    },
    {
     "name": "stdout",
     "output_type": "stream",
     "text": [
      "4 is even\n"
     ]
    }
   ],
   "source": [
    "#6.Implement a program to determine whether a given number is even or odd.\n",
    "\n",
    "a=int(input(\"enter a number:\"))\n",
    "\n",
    "if(a%2==0):\n",
    "    print(f\"{a} is even\")\n",
    "else:\n",
    "    print(f\"{a} is odd\")\n"
   ]
  },
  {
   "cell_type": "code",
   "execution_count": 5,
   "id": "6d57957e-fe84-4420-8087-1fe905a1a9fe",
   "metadata": {},
   "outputs": [
    {
     "name": "stdin",
     "output_type": "stream",
     "text": [
      "Enter a number:  6\n"
     ]
    },
    {
     "name": "stdout",
     "output_type": "stream",
     "text": [
      "The absolute value of 6.0 is 6.0\n"
     ]
    }
   ],
   "source": [
    "#7.\n",
    "\n",
    "def absolute_value(num):\n",
    "    if num < 0:\n",
    "        return -num\n",
    "    else:\n",
    "        return num\n",
    "\n",
    "number = float(input(\"Enter a number: \"))\n",
    "result = absolute_value(number)\n",
    "print(f\"The absolute value of {number} is {result}\")\n"
   ]
  },
  {
   "cell_type": "code",
   "execution_count": 6,
   "id": "80cc2136-ccaa-4c47-ba51-a563fd7b69a3",
   "metadata": {},
   "outputs": [
    {
     "name": "stdin",
     "output_type": "stream",
     "text": [
      "Enter the first number:  9\n",
      "Enter the second number:  3\n",
      "Enter the third number:  2\n"
     ]
    },
    {
     "name": "stdout",
     "output_type": "stream",
     "text": [
      "The largest number is: 9.0\n"
     ]
    }
   ],
   "source": [
    "#8\n",
    "def find_largest(a, b, c):\n",
    "    if a >= b and a >= c:\n",
    "        return a\n",
    "    elif b >= a and b >= c:\n",
    "        return b\n",
    "    else:\n",
    "        return c\n",
    "\n",
    "num1 = float(input(\"Enter the first number: \"))\n",
    "num2 = float(input(\"Enter the second number: \"))\n",
    "num3 = float(input(\"Enter the third number: \"))\n",
    "\n",
    "largest = find_largest(num1, num2, num3)\n",
    "print(\"The largest number is:\", largest)\n"
   ]
  },
  {
   "cell_type": "code",
   "execution_count": 7,
   "id": "875cd83a-1f4b-436c-913f-cbbe444d9ba1",
   "metadata": {},
   "outputs": [
    {
     "name": "stdin",
     "output_type": "stream",
     "text": [
      "Enter a string:  hijhv\n"
     ]
    },
    {
     "name": "stdout",
     "output_type": "stream",
     "text": [
      "It's not a palindrome.\n"
     ]
    }
   ],
   "source": [
    "#9.\n",
    "\n",
    "def is_palindrome(s):\n",
    "    s = s.lower().replace(\" \", \"\")  # Convert to lowercase and remove spaces\n",
    "    return s == s[::-1]\n",
    "\n",
    "input_string = input(\"Enter a string: \")\n",
    "if is_palindrome(input_string):\n",
    "    print(\"It's a palindrome.\")\n",
    "else:\n",
    "    print(\"It's not a palindrome.\")\n",
    "\n"
   ]
  },
  {
   "cell_type": "code",
   "execution_count": 8,
   "id": "a8185cb5-ab16-491b-95bd-9489b819b8be",
   "metadata": {},
   "outputs": [
    {
     "name": "stdin",
     "output_type": "stream",
     "text": [
      "Enter the student's score:  96\n"
     ]
    },
    {
     "name": "stdout",
     "output_type": "stream",
     "text": [
      "The student's grade is: A\n"
     ]
    }
   ],
   "source": [
    "#10.\n",
    "\n",
    "def calculate_grade(score):\n",
    "    if score >= 90:\n",
    "        return \"A\"\n",
    "    elif score >= 80:\n",
    "        return \"B\"\n",
    "    elif score >= 70:\n",
    "        return \"C\"\n",
    "    elif score >= 60:\n",
    "        return \"D\"\n",
    "    else:\n",
    "        return \"F\"\n",
    "\n",
    "score = float(input(\"Enter the student's score: \"))\n",
    "grade = calculate_grade(score)\n",
    "print(f\"The student's grade is: {grade}\")\n"
   ]
  },
  {
   "cell_type": "code",
   "execution_count": null,
   "id": "9a7b6d68-1b23-4504-992a-bbc26ee66fad",
   "metadata": {},
   "outputs": [],
   "source": []
  },
  {
   "cell_type": "code",
   "execution_count": null,
   "id": "4611cb90-b9fc-42c8-861a-a080612cc510",
   "metadata": {},
   "outputs": [],
   "source": [
    "#nested if_else statement "
   ]
  },
  {
   "cell_type": "code",
   "execution_count": 2,
   "id": "abd74e79-db39-4f9f-bf25-e8a6c9e9be3a",
   "metadata": {},
   "outputs": [
    {
     "name": "stdin",
     "output_type": "stream",
     "text": [
      "Enter the first number:  5\n",
      "Enter the second number:  6\n",
      "Enter the third number:  8\n"
     ]
    },
    {
     "name": "stdout",
     "output_type": "stream",
     "text": [
      "The largest number is: 8.0\n"
     ]
    }
   ],
   "source": [
    "#11. Write a program to find the largest among three numbers using nested if-else statements.\n",
    "\n",
    "# Input three numbers\n",
    "num1 = float(input(\"Enter the first number: \"))\n",
    "num2 = float(input(\"Enter the second number: \"))\n",
    "num3 = float(input(\"Enter the third number: \"))\n",
    "\n",
    "# Compare and find the largest number\n",
    "if num1 >= num2 and num1 >= num3:\n",
    "    largest = num1\n",
    "elif num2 >= num1 and num2 >= num3:\n",
    "    largest = num2\n",
    "else:\n",
    "    largest = num3\n",
    "\n",
    "# Print the result\n",
    "print(\"The largest number is:\", largest)\n",
    "\n",
    "\n",
    "\n",
    "\n",
    "\n",
    "\n"
   ]
  },
  {
   "cell_type": "code",
   "execution_count": 5,
   "id": "3c129b98-1ac2-4e16-9637-a06f71c3771b",
   "metadata": {},
   "outputs": [
    {
     "name": "stdin",
     "output_type": "stream",
     "text": [
      "Enter the length of the first side:  3\n",
      "Enter the length of the second side:  5\n",
      "Enter the length of the third side:  9\n"
     ]
    },
    {
     "name": "stdout",
     "output_type": "stream",
     "text": [
      "It's a scalene triangle.\n"
     ]
    }
   ],
   "source": [
    "#12.Implement a program to determine if a triangle is equilateral, isosceles, or scalene.\n",
    "\n",
    "# Input three side lengths\n",
    "side1 = float(input(\"Enter the length of the first side: \"))\n",
    "side2 = float(input(\"Enter the length of the second side: \"))\n",
    "side3 = float(input(\"Enter the length of the third side: \"))\n",
    "\n",
    "# Check for equilateral, isosceles, or scalene triangle\n",
    "if side1 == side2 == side3:\n",
    "    print(\"It's an equilateral triangle.\")\n",
    "elif side1 == side2 or side2 == side3 or side1 == side3:\n",
    "    print(\"It's an isosceles triangle.\")\n",
    "else:\n",
    "    print(\"It's a scalene triangle.\")\n",
    "\n",
    "\n",
    "\n",
    "\n"
   ]
  },
  {
   "cell_type": "code",
   "execution_count": 8,
   "id": "30b4bbe7-f8a9-49ab-9f4a-a67537b161a4",
   "metadata": {},
   "outputs": [
    {
     "name": "stdin",
     "output_type": "stream",
     "text": [
      "Enter a year:  2004\n"
     ]
    },
    {
     "name": "stdout",
     "output_type": "stream",
     "text": [
      "It's a leap year but not a century year.\n"
     ]
    }
   ],
   "source": [
    "#13. Develop a program that checks if a year is a leap year and also if it is a century year.\n",
    "\n",
    "\n",
    "# Input a year\n",
    "year = int(input(\"Enter a year: \"))\n",
    "\n",
    "# Check if it's a leap year\n",
    "if year % 4 == 0:\n",
    "    if year % 100 == 0:\n",
    "        if year % 400 == 0:\n",
    "            print(\"It's a leap year and a century year.\")\n",
    "        else:\n",
    "            print(\"It's a leap year but not a century year.\")\n",
    "    else:\n",
    "        print(\"It's a leap year but not a century year.\")\n",
    "else:\n",
    "    print(\"It's not a leap year.\")\n",
    "\n",
    "\n",
    "\n",
    "\n"
   ]
  },
  {
   "cell_type": "code",
   "execution_count": 10,
   "id": "65f51f33-0b68-40ed-badf-2866761c8646",
   "metadata": {},
   "outputs": [
    {
     "name": "stdin",
     "output_type": "stream",
     "text": [
      "Enter a number:  5\n"
     ]
    },
    {
     "name": "stdout",
     "output_type": "stream",
     "text": [
      "It's a positive number.\n"
     ]
    }
   ],
   "source": [
    "#14.Write a Python script to determine if a number is positive, negative, or zero.\n",
    "\n",
    "\n",
    "# Input a number\n",
    "number = float(input(\"Enter a number: \"))\n",
    "\n",
    "# Check if it's positive, negative, or zero\n",
    "if number > 0:\n",
    "    print(\"It's a positive number.\")\n",
    "elif number < 0:\n",
    "    print(\"It's a negative number.\")\n",
    "else:\n",
    "    print(\"It's zero.\")\n",
    "\n",
    "\n",
    "\n"
   ]
  },
  {
   "cell_type": "code",
   "execution_count": 13,
   "id": "dfdcdcf3-a7af-4ef6-87cb-0b4818b7fba4",
   "metadata": {},
   "outputs": [
    {
     "name": "stdin",
     "output_type": "stream",
     "text": [
      "Enter age:  16\n"
     ]
    },
    {
     "name": "stdout",
     "output_type": "stream",
     "text": [
      "The person is a teenager.\n"
     ]
    }
   ],
   "source": [
    "#15. Create a program to check if a person is a teenager (between 13 and 19 years old).\n",
    "\n",
    "# Input age\n",
    "age = int(input(\"Enter age: \"))\n",
    "\n",
    "# Check if age is between 13 and 19\n",
    "if 13 <= age <= 19:\n",
    "    print(\"The person is a teenager.\")\n",
    "else:\n",
    "    print(\"The person is not a teenager.\")\n",
    "\n"
   ]
  },
  {
   "cell_type": "code",
   "execution_count": 23,
   "id": "e2bb02f9-13a2-4d14-a174-8d6b25379936",
   "metadata": {},
   "outputs": [
    {
     "name": "stdin",
     "output_type": "stream",
     "text": [
      "enter an angle: 155\n"
     ]
    },
    {
     "name": "stdout",
     "output_type": "stream",
     "text": [
      "it is an obtuse angle\n"
     ]
    }
   ],
   "source": [
    "#16.Develop a program that determines the type of angle based on its measure (acute, obtuse, or right).\n",
    "\n",
    "a=float(input(\"enter an angle:\"))\n",
    "\n",
    "if (90<a<180):\n",
    "    print(\"it is an obtuse angle\")\n",
    "elif (a==90):\n",
    "    print(\"it is a right angle\")\n",
    "else:\n",
    "    print(\"it is actue angle\")\n"
   ]
  },
  {
   "cell_type": "code",
   "execution_count": 1,
   "id": "02acf0ae-5186-4491-8ba0-33e2ac28f1ab",
   "metadata": {},
   "outputs": [
    {
     "name": "stdin",
     "output_type": "stream",
     "text": [
      "Enter the coefficient a:  5\n",
      "Enter the coefficient b:  2\n",
      "Enter the coefficient c:  6\n"
     ]
    },
    {
     "name": "stdout",
     "output_type": "stream",
     "text": [
      "No real roots.\n"
     ]
    }
   ],
   "source": [
    "#17.Write a Python program to calculate the roots of a quadratic equation.\n",
    "\n",
    "import math\n",
    "\n",
    "# Input coefficients\n",
    "a = float(input(\"Enter the coefficient a: \"))\n",
    "b = float(input(\"Enter the coefficient b: \"))\n",
    "c = float(input(\"Enter the coefficient c: \"))\n",
    "\n",
    "# Calculate the discriminant\n",
    "discriminant = b**2 - 4*a*c\n",
    "\n",
    "# Check for real roots\n",
    "if discriminant > 0:\n",
    "    root1 = (-b + math.sqrt(discriminant)) / (2*a)\n",
    "    root2 = (-b - math.sqrt(discriminant)) / (2*a)\n",
    "    print(\"Two real roots:\", root1, \"and\", root2)\n",
    "elif discriminant == 0:\n",
    "    root = -b / (2*a)\n",
    "    print(\"One real root:\", root)\n",
    "else:\n",
    "    print(\"No real roots.\")\n",
    "\n",
    "\n",
    "\n",
    "\n",
    "\n"
   ]
  },
  {
   "cell_type": "code",
   "execution_count": 5,
   "id": "a9c969a4-e1f0-41aa-a10c-60fb519bf19a",
   "metadata": {},
   "outputs": [
    {
     "name": "stdin",
     "output_type": "stream",
     "text": [
      "Enter a number (1-7):  5\n"
     ]
    },
    {
     "name": "stdout",
     "output_type": "stream",
     "text": [
      "It's Friday\n"
     ]
    }
   ],
   "source": [
    "#18. Implement a program to determine the day of the week based on a user-provided number (1 for Monday, 2 for Tuesday, etc.).\n",
    "\n",
    "\n",
    "# Input a number (1 for Monday, 2 for Tuesday, etc.)\n",
    "day_number = int(input(\"Enter a number (1-7): \"))\n",
    "\n",
    "# Define a list of days\n",
    "days = [\"Monday\", \"Tuesday\", \"Wednesday\", \"Thursday\", \"Friday\", \"Saturday\", \"Sunday\"]\n",
    "\n",
    "# Check if the input is within the valid range\n",
    "if 1 <= day_number <= 7:\n",
    "    day_name = days[day_number-1]\n",
    "    print(\"It's\", day_name)\n",
    "else:\n",
    "    print(\"Invalid input. Please enter a number between 1 and 7.\")\n",
    "\n",
    "\n",
    "\n",
    "\n",
    "\n",
    "\n",
    "\n"
   ]
  },
  {
   "cell_type": "code",
   "execution_count": 1,
   "id": "1518b75b-869e-46f4-8d71-3d2b3f43d012",
   "metadata": {},
   "outputs": [
    {
     "name": "stdin",
     "output_type": "stream",
     "text": [
      "Enter a year:  2006\n"
     ]
    },
    {
     "name": "stdout",
     "output_type": "stream",
     "text": [
      "It's not a leap year or not evenly divisible by 400.\n"
     ]
    }
   ],
   "source": [
    "#19.Create a program that determines if a year is a leap year and also if it is evenly divisible by 400.\n",
    "\n",
    "# Input a year\n",
    "year = int(input(\"Enter a year: \"))\n",
    "\n",
    "# Check if it's a leap year and divisible by 400\n",
    "if year % 4 == 0 and (year % 100 != 0 or year % 400 == 0):\n",
    "    print(\"It's a leap year and evenly divisible by 400.\")\n",
    "else:\n",
    "    print(\"It's not a leap year or not evenly divisible by 400.\")\n",
    "\n",
    "\n",
    "\n",
    "\n",
    "\n"
   ]
  },
  {
   "cell_type": "code",
   "execution_count": 11,
   "id": "eae0b417-5861-421c-8187-382befff1b30",
   "metadata": {},
   "outputs": [
    {
     "name": "stdin",
     "output_type": "stream",
     "text": [
      "Enter a number:  5\n"
     ]
    },
    {
     "name": "stdout",
     "output_type": "stream",
     "text": [
      "It is a prime number.\n"
     ]
    }
   ],
   "source": [
    "#20.Develop a program that checks if a given number is prime or not using nested if-else statements.\n",
    "\n",
    "\n",
    "# Input a number\n",
    "num = int(input(\"Enter a number: \"))\n",
    "\n",
    "# Check if it's a prime number\n",
    "if num <= 1:\n",
    "    # Numbers less than or equal to 1 are not prime\n",
    "    print(\"It is not a prime number.\")\n",
    "else:\n",
    "    is_prime = True  # Assume it's a prime number by default\n",
    "    \n",
    "    # Check for divisibility from 2 to the square root of the number\n",
    "    for i in range(2, int(num**0.5) + 1):\n",
    "        if num % i == 0:\n",
    "            # If the number is divisible by any number in this range, it's not prime\n",
    "            is_prime = False\n",
    "            break\n",
    "    \n",
    "    if is_prime:\n",
    "        print(\"It is a prime number.\")\n",
    "    else:\n",
    "        print(\"It is not a prime number.\")\n",
    "\n"
   ]
  },
  {
   "cell_type": "code",
   "execution_count": 23,
   "id": "4596a6f2-94f6-42b3-9880-c121379ea20c",
   "metadata": {},
   "outputs": [
    {
     "name": "stdin",
     "output_type": "stream",
     "text": [
      "Enter the score:  80\n"
     ]
    },
    {
     "name": "stdout",
     "output_type": "stream",
     "text": [
      "The grade is: B\n"
     ]
    }
   ],
   "source": [
    "#21.Write a Python program to assign grades based on different ranges of scores using elif statements.\n",
    "\n",
    "# Input the score\n",
    "score = float(input(\"Enter the score: \"))\n",
    "\n",
    "# Assign grades based on score ranges\n",
    "if score >= 90:\n",
    "    grade = \"A\"\n",
    "elif score >= 80:\n",
    "    grade = \"B\"\n",
    "elif score >= 70:\n",
    "    grade = \"C\"\n",
    "elif score >= 60:\n",
    "    grade = \"D\"\n",
    "else:\n",
    "    grade = \"F\"\n",
    "\n",
    "print(\"The grade is:\", grade)\n",
    "\n"
   ]
  },
  {
   "cell_type": "code",
   "execution_count": 24,
   "id": "32a9cf51-fcd2-417e-b6b7-125d850b9a03",
   "metadata": {},
   "outputs": [
    {
     "name": "stdin",
     "output_type": "stream",
     "text": [
      "Enter the first angle:  55\n",
      "Enter the second angle:  95\n",
      "Enter the third angle:  180\n"
     ]
    },
    {
     "name": "stdout",
     "output_type": "stream",
     "text": [
      "The triangle is: Not a valid triangle\n"
     ]
    }
   ],
   "source": [
    "#22. Implement a program to determine the type of a triangle based on its angles.\n",
    "\n",
    "# Input angles of the triangle\n",
    "angle1 = float(input(\"Enter the first angle: \"))\n",
    "angle2 = float(input(\"Enter the second angle: \"))\n",
    "angle3 = float(input(\"Enter the third angle: \"))\n",
    "\n",
    "# Determine the type of triangle\n",
    "if angle1 + angle2 + angle3 == 180:\n",
    "    if angle1 == angle2 == angle3:\n",
    "        triangle_type = \"Equilateral\"\n",
    "    elif angle1 == angle2 or angle2 == angle3 or angle1 == angle3:\n",
    "        triangle_type = \"Isosceles\"\n",
    "    else:\n",
    "        triangle_type = \"Scalene\"\n",
    "else:\n",
    "    triangle_type = \"Not a valid triangle\"\n",
    "\n",
    "print(\"The triangle is:\", triangle_type)\n"
   ]
  },
  {
   "cell_type": "code",
   "execution_count": 28,
   "id": "1b031d70-6ef3-4de3-b219-1f4c716a26e2",
   "metadata": {},
   "outputs": [
    {
     "name": "stdin",
     "output_type": "stream",
     "text": [
      "Enter weight (kg):  75\n",
      "Enter height (m):  1.767\n"
     ]
    },
    {
     "name": "stdout",
     "output_type": "stream",
     "text": [
      "BMI category is: Normal\n"
     ]
    }
   ],
   "source": [
    "#23. Develop a program to categorize a given person's BMI into underweight, normal, overweight, or obese using elif statements.\n",
    "\n",
    "# Input weight and height\n",
    "weight = float(input(\"Enter weight (kg): \"))\n",
    "height = float(input(\"Enter height (m): \"))\n",
    "\n",
    "# Calculate BMI\n",
    "bmi = weight / (height ** 2)\n",
    "\n",
    "# Categorize BMI\n",
    "if bmi < 18.5:\n",
    "    category = \"Underweight\"\n",
    "elif 18.5 <= bmi < 24.9:\n",
    "    category = \"Normal\"\n",
    "elif 25 <= bmi < 29.9:\n",
    "    category = \"Overweight\"\n",
    "else:\n",
    "    category = \"Obese\"\n",
    "\n",
    "print(\"BMI category is:\", category)\n"
   ]
  },
  {
   "cell_type": "code",
   "execution_count": 29,
   "id": "c6696df1-e024-4808-b6d7-c65d66d3a5ee",
   "metadata": {},
   "outputs": [
    {
     "name": "stdin",
     "output_type": "stream",
     "text": [
      "Enter a number:  5\n"
     ]
    },
    {
     "name": "stdout",
     "output_type": "stream",
     "text": [
      "It is Positive\n"
     ]
    }
   ],
   "source": [
    "#24.Create a program that determines whether a given number is positive, negative, or zero using elif statements.\n",
    "\n",
    "# Input a number\n",
    "number = float(input(\"Enter a number: \"))\n",
    "\n",
    "# Determine if it's positive, negative, or zero\n",
    "if number > 0:\n",
    "    result = \"Positive\"\n",
    "elif number < 0:\n",
    "    result = \"Negative\"\n",
    "else:\n",
    "    result = \"Zero\"\n",
    "\n",
    "print(\"It is\", result)\n"
   ]
  },
  {
   "cell_type": "code",
   "execution_count": 31,
   "id": "b2b48bd1-adfd-4b36-9f45-85b8747b9886",
   "metadata": {},
   "outputs": [
    {
     "name": "stdin",
     "output_type": "stream",
     "text": [
      "Enter a character:  SUVA\n"
     ]
    },
    {
     "name": "stdout",
     "output_type": "stream",
     "text": [
      "It is a Uppercase character.\n"
     ]
    }
   ],
   "source": [
    "#25.Write a Python script to determine the type of a character (uppercase, lowercase, or special) using elif statements.\n",
    "\n",
    "# Input a character\n",
    "char = input(\"Enter a character: \")\n",
    "\n",
    "# Determine the type of character\n",
    "if char.isalpha():\n",
    "    if char.isupper():\n",
    "        char_type = \"Uppercase\"\n",
    "    else:\n",
    "        char_type = \"Lowercase\"\n",
    "else:\n",
    "    char_type = \"Special character\"\n",
    "\n",
    "print(\"It is a\", char_type, \"character.\")\n"
   ]
  },
  {
   "cell_type": "code",
   "execution_count": 32,
   "id": "d07d6326-2c6b-4ab8-8671-f7ecf319cc7b",
   "metadata": {},
   "outputs": [
    {
     "name": "stdin",
     "output_type": "stream",
     "text": [
      "Enter the purchase amount:  5000\n"
     ]
    },
    {
     "name": "stdout",
     "output_type": "stream",
     "text": [
      "Discounted price is: 4500.0\n"
     ]
    }
   ],
   "source": [
    "#26.Implement a program to calculate the discounted price based on different purchase amounts using elif statements.\n",
    "\n",
    "# Input the purchase amount\n",
    "purchase_amount = float(input(\"Enter the purchase amount: \"))\n",
    "\n",
    "# Calculate the discounted price based on purchase amount ranges\n",
    "if purchase_amount >= 1000:\n",
    "    discount = 0.1  # 10% discount\n",
    "elif purchase_amount >= 500:\n",
    "    discount = 0.05  # 5% discount\n",
    "else:\n",
    "    discount = 0  # No discount\n",
    "\n",
    "discounted_price = purchase_amount - (purchase_amount * discount)\n",
    "\n",
    "print(\"Discounted price is:\", discounted_price)\n"
   ]
  },
  {
   "cell_type": "code",
   "execution_count": 33,
   "id": "dfb9fd45-a7bd-4ed7-afa3-1768866790ee",
   "metadata": {},
   "outputs": [
    {
     "name": "stdin",
     "output_type": "stream",
     "text": [
      "Enter the electricity consumption (kWh):  150\n"
     ]
    },
    {
     "name": "stdout",
     "output_type": "stream",
     "text": [
      "Electricity bill is: 125.0\n"
     ]
    }
   ],
   "source": [
    "#27.Develop a program to calculate the electricity bill based on different consumption slabs using elif statements.\n",
    "\n",
    "# Input the electricity consumption in kWh\n",
    "consumption = float(input(\"Enter the electricity consumption (kWh): \"))\n",
    "\n",
    "# Calculate the electricity bill based on consumption slabs\n",
    "if consumption <= 50:\n",
    "    bill = consumption * 0.5\n",
    "elif consumption <= 150:\n",
    "    bill = 50 + (consumption - 50) * 0.75\n",
    "elif consumption <= 250:\n",
    "    bill = 50 + 100 + (consumption - 150) * 1.2\n",
    "else:\n",
    "    bill = 50 + 100 + 100 + (consumption - 250) * 1.5\n",
    "\n",
    "print(\"Electricity bill is:\", bill)\n"
   ]
  },
  {
   "cell_type": "code",
   "execution_count": 34,
   "id": "01c6f8fc-2180-4c34-92e3-b963c765bfae",
   "metadata": {},
   "outputs": [
    {
     "name": "stdin",
     "output_type": "stream",
     "text": [
      "Enter the first angle:  90\n",
      "Enter the second angle:  90\n",
      "Enter the third angle:  90\n",
      "Enter the fourth angle:  90\n",
      "Enter the first side length:  5\n",
      "Enter the second side length:  5\n",
      "Enter the third side length:  5\n",
      "Enter the fourth side length:  5\n"
     ]
    },
    {
     "name": "stdout",
     "output_type": "stream",
     "text": [
      "The quadrilateral is a Square\n"
     ]
    }
   ],
   "source": [
    "#28. Create a program to determine the type of quadrilateral based on its angles and sides using elif statements.\n",
    "\n",
    "# Input angles and sides of a quadrilateral\n",
    "angle1 = float(input(\"Enter the first angle: \"))\n",
    "angle2 = float(input(\"Enter the second angle: \"))\n",
    "angle3 = float(input(\"Enter the third angle: \"))\n",
    "angle4 = float(input(\"Enter the fourth angle: \"))\n",
    "side1 = float(input(\"Enter the first side length: \"))\n",
    "side2 = float(input(\"Enter the second side length: \"))\n",
    "side3 = float(input(\"Enter the third side length: \"))\n",
    "side4 = float(input(\"Enter the fourth side length: \"))\n",
    "\n",
    "# Determine the type of quadrilateral\n",
    "if angle1 == angle2 == angle3 == angle4 == 90:\n",
    "    if side1 == side2 == side3 == side4:\n",
    "        quadrilateral_type = \"Square\"\n",
    "    else:\n",
    "        quadrilateral_type = \"Rectangle\"\n",
    "elif side1 == side2 == side3 == side4:\n",
    "    if angle1 == angle2 == angle3 == angle4:\n",
    "        quadrilateral_type = \"Rhombus\"\n",
    "    else:\n",
    "        quadrilateral_type = \"Parallelogram\"\n",
    "else:\n",
    "    quadrilateral_type = \"Quadrilateral\"\n",
    "\n",
    "print(\"The quadrilateral is a\", quadrilateral_type)\n"
   ]
  },
  {
   "cell_type": "code",
   "execution_count": 36,
   "id": "7b9d1440-291c-47e8-8262-5dd67e833d37",
   "metadata": {},
   "outputs": [
    {
     "name": "stdin",
     "output_type": "stream",
     "text": [
      "Enter a month (1-12):  4\n"
     ]
    },
    {
     "name": "stdout",
     "output_type": "stream",
     "text": [
      "The season is: Spring\n"
     ]
    }
   ],
   "source": [
    "#29.Write a Python script to determine the season based on a user-provided month using elif statements.\n",
    "\n",
    "\n",
    "# Input a month (as an integer)\n",
    "month = int(input(\"Enter a month (1-12): \"))\n",
    "\n",
    "# Determine the season based on the month\n",
    "if 3 <= month <= 5:\n",
    "    season = \"Spring\"\n",
    "elif 6 <= month <= 8:\n",
    "    season = \"Summer\"\n",
    "elif 9 <= month <= 11:\n",
    "    season = \"Autumn\"\n",
    "else:\n",
    "    season = \"Winter\"\n",
    "\n",
    "print(\"The season is:\", season)\n",
    "\n",
    "\n"
   ]
  },
  {
   "cell_type": "code",
   "execution_count": 37,
   "id": "75dc8ed9-be57-492d-80c1-45afc58a6c8d",
   "metadata": {},
   "outputs": [
    {
     "name": "stdin",
     "output_type": "stream",
     "text": [
      "Enter a year:  2023\n",
      "Enter a month (1-12):  9\n"
     ]
    },
    {
     "name": "stdout",
     "output_type": "stream",
     "text": [
      "It is a Common year and the month has 30 days.\n"
     ]
    }
   ],
   "source": [
    "#30. Implement a program to determine the type of a year (leap or common) and month (30 or 31 days) using elif statements.\n",
    "\n",
    "# Input a year and a month (as integers)\n",
    "year = int(input(\"Enter a year: \"))\n",
    "month = int(input(\"Enter a month (1-12): \"))\n",
    "\n",
    "# Determine the type of year (leap or common)\n",
    "if (year % 4 == 0 and year % 100 != 0) or (year % 400 == 0):\n",
    "    year_type = \"Leap year\"\n",
    "else:\n",
    "    year_type = \"Common year\"\n",
    "\n",
    "# Determine the number of days in the month\n",
    "if month in [1, 3, 5, 7, 8, 10, 12]:\n",
    "    days_in_month = 31\n",
    "elif month in [4, 6, 9, 11]:\n",
    "    days_in_month = 30\n",
    "else:\n",
    "    if year_type == \"Leap year\":\n",
    "        days_in_month = 29\n",
    "    else:\n",
    "        days_in_month = 28\n",
    "\n",
    "print(\"It is a\", year_type, \"and the month has\", days_in_month, \"days.\")\n",
    "\n",
    "\n",
    "\n"
   ]
  },
  {
   "cell_type": "code",
   "execution_count": 1,
   "id": "6070df8a-f805-4663-8272-8b68bdc49bec",
   "metadata": {},
   "outputs": [],
   "source": [
    "# BASIC LEVEL:"
   ]
  },
  {
   "cell_type": "code",
   "execution_count": 4,
   "id": "0f5d241f-67e0-46a2-b00d-bd54c9496772",
   "metadata": {},
   "outputs": [
    {
     "name": "stdin",
     "output_type": "stream",
     "text": [
      "enter a number: -5\n"
     ]
    },
    {
     "name": "stdout",
     "output_type": "stream",
     "text": [
      "number is nagative\n"
     ]
    }
   ],
   "source": [
    "#1.Write a Python program that checks if a given number is positive, negative, or zero.\n",
    "a=int(input(\"enter a number:\"))\n",
    "if a>0:\n",
    "    print(\"number is posative\")\n",
    "elif a==0:\n",
    "    print(\"number is zero\")\n",
    "else:\n",
    "    print(\"number is nagative\")"
   ]
  },
  {
   "cell_type": "code",
   "execution_count": 1,
   "id": "2c5062b3-1c89-4833-99e4-83936dccaab7",
   "metadata": {},
   "outputs": [
    {
     "name": "stdin",
     "output_type": "stream",
     "text": [
      "Enter your age:  5\n"
     ]
    },
    {
     "name": "stdout",
     "output_type": "stream",
     "text": [
      "You are not eligible to vote yet.\n"
     ]
    }
   ],
   "source": [
    "#2.Create a program to determine if a person is eligible to vote based on their age.\n",
    "\n",
    "age = int(input(\"Enter your age: \"))\n",
    "\n",
    "if age >= 18:\n",
    "    print(\"You are eligible to vote.\")\n",
    "else:\n",
    "    print(\"You are not eligible to vote yet.\")\n",
    "\n",
    "\n"
   ]
  },
  {
   "cell_type": "code",
   "execution_count": 2,
   "id": "c0e16198-9b80-4b5a-b4c1-be4aff616948",
   "metadata": {},
   "outputs": [
    {
     "name": "stdin",
     "output_type": "stream",
     "text": [
      "Enter the first number:  5\n",
      "Enter the second number:  6\n"
     ]
    },
    {
     "name": "stdout",
     "output_type": "stream",
     "text": [
      "The maximum is: 6.0\n"
     ]
    }
   ],
   "source": [
    "#3.Write a program to find the maximum of two given numbers using conditional statements.\n",
    "\n",
    "num1 = float(input(\"Enter the first number: \"))\n",
    "num2 = float(input(\"Enter the second number: \"))\n",
    "\n",
    "if num1 > num2:\n",
    "    print(\"The maximum is:\", num1)\n",
    "else:\n",
    "    print(\"The maximum is:\", num2)\n"
   ]
  },
  {
   "cell_type": "code",
   "execution_count": 3,
   "id": "b59e1b02-9ef5-4f0c-9fe8-03e9ab35be47",
   "metadata": {},
   "outputs": [
    {
     "name": "stdin",
     "output_type": "stream",
     "text": [
      "Enter the exam score:  95\n"
     ]
    },
    {
     "name": "stdout",
     "output_type": "stream",
     "text": [
      "Grade: A\n"
     ]
    }
   ],
   "source": [
    "#4.Develop a program that calculates the grade of a student based on their exam score\n",
    "\n",
    "score = float(input(\"Enter the exam score: \"))\n",
    "\n",
    "if score >= 90:\n",
    "    print(\"Grade: A\")\n",
    "elif score >= 80:\n",
    "    print(\"Grade: B\")\n",
    "elif score >= 70:\n",
    "    print(\"Grade: C\")\n",
    "elif score >= 60:\n",
    "    print(\"Grade: D\")\n",
    "else:\n",
    "    print(\"Grade: F\")\n"
   ]
  },
  {
   "cell_type": "code",
   "execution_count": 4,
   "id": "f5e5b303-36c6-48c2-aaee-f48f4167dd04",
   "metadata": {},
   "outputs": [
    {
     "name": "stdin",
     "output_type": "stream",
     "text": [
      "Enter a year:  2022\n"
     ]
    },
    {
     "name": "stdout",
     "output_type": "stream",
     "text": [
      "Not a leap year\n"
     ]
    }
   ],
   "source": [
    "#5.Create a program that checks if a year is a leap year or not.\n",
    "\n",
    "year = int(input(\"Enter a year: \"))\n",
    "\n",
    "if (year % 4 == 0 and year % 100 != 0) or (year % 400 == 0):\n",
    "    print(\"Leap year\")\n",
    "else:\n",
    "    print(\"Not a leap year\")\n"
   ]
  },
  {
   "cell_type": "code",
   "execution_count": 4,
   "id": "eb9e07a6-89ed-4753-ac1b-1a0ffb0e7600",
   "metadata": {},
   "outputs": [
    {
     "name": "stdin",
     "output_type": "stream",
     "text": [
      "enter 1st sides  length: 5\n",
      "enter  2nd sides length: 9\n",
      "enter 3rd sides length: 8\n"
     ]
    },
    {
     "name": "stdout",
     "output_type": "stream",
     "text": [
      "that is scalene triangle\n"
     ]
    }
   ],
   "source": [
    "#6.Write a program to classify a triangle based on its sides' lengths.\n",
    "\n",
    "a=int(input(\"enter 1st sides  length:\"))\n",
    "b=int(input(\"enter  2nd sides length:\"))\n",
    "c=int(input(\"enter 3rd sides length:\"))\n",
    "            \n",
    "if a==b==c:\n",
    "           print(\"that is equilateral triangle\")\n",
    "elif a==b or b==c or c==a :\n",
    "           print(\"that is isoceies triangle\")\n",
    "else:\n",
    "            print(\"that is scalene triangle\")"
   ]
  },
  {
   "cell_type": "code",
   "execution_count": 5,
   "id": "f3eef4da-c69a-4615-9c45-d6e777dfb172",
   "metadata": {},
   "outputs": [
    {
     "name": "stdin",
     "output_type": "stream",
     "text": [
      "Enter the first number:  5\n",
      "Enter the second number:  6\n",
      "Enter the third number:  4\n"
     ]
    },
    {
     "name": "stdout",
     "output_type": "stream",
     "text": [
      "The largest number is: 6.0\n"
     ]
    }
   ],
   "source": [
    "#7.Build a program that determines the largest of three given numbers.\n",
    "\n",
    "num1 = float(input(\"Enter the first number: \"))\n",
    "num2 = float(input(\"Enter the second number: \"))\n",
    "num3 = float(input(\"Enter the third number: \"))\n",
    "\n",
    "max_num = max(num1, num2, num3)\n",
    "print(\"The largest number is:\", max_num)\n"
   ]
  },
  {
   "cell_type": "code",
   "execution_count": 7,
   "id": "6f3e4718-daa3-4953-866c-4a4af3fb3cfd",
   "metadata": {},
   "outputs": [
    {
     "name": "stdin",
     "output_type": "stream",
     "text": [
      "Enter a character:  SUVA\n"
     ]
    },
    {
     "name": "stdout",
     "output_type": "stream",
     "text": [
      "Consonant\n"
     ]
    }
   ],
   "source": [
    "#8.Develop a program that checks whether a character is a vowel or a consonant.\n",
    "\n",
    "char = input(\"Enter a character: \").lower()\n",
    "\n",
    "if char in \"aeiou\":\n",
    "    print(\"Vowel\")\n",
    "else:\n",
    "    print(\"Consonant\")\n"
   ]
  },
  {
   "cell_type": "code",
   "execution_count": null,
   "id": "e1cd5513-1ab3-4a43-8d2d-dadb74d0ac62",
   "metadata": {},
   "outputs": [],
   "source": [
    "#9.Create a program to calculate the total cost of a shopping cart based on discounts.\n",
    "\n",
    "marked_price = float(input(\"Enter the marked price of the product (in INR): \"))\n",
    "quantity = int(input(\"Enter the quantity: \"))\n",
    "\n",
    "# Calculate the total cost without any discount\n",
    "total_cost_inr = marked_price * quantity\n",
    "\n",
    "# Check for discounts based on the total cost\n",
    "if total_cost_inr >= 10000:\n",
    "    discount_rate = 0.25  # 25% discount \n",
    "elif total_cost_inr >= 5000:\n",
    "    discount_rate = 0.15  # 15% discount \n",
    "elif total_cost_inr >= 2000:\n",
    "    discount_rate = 0.1   # 10% discount \n",
    "else:\n",
    "    discount_rate = 0.0   # No discount \n",
    "\n",
    "# Calculate the discounted cost\n",
    "discounted_cost_inr = total_cost_inr - (total_cost_inr * discount_rate)\n",
    "\n",
    "# Display the total cost and discounted cost in INR\n",
    "print(f\"Total cost: ₹{total_cost_inr:.2f}\")\n",
    "print(f\"Discounted cost: ₹{discounted_cost_inr:.2f}\")\n"
   ]
  },
  {
   "cell_type": "code",
   "execution_count": 8,
   "id": "fc4fbe07-16e4-4517-9d5c-c09b74f4d4b2",
   "metadata": {},
   "outputs": [
    {
     "name": "stdin",
     "output_type": "stream",
     "text": [
      "Enter a number:  5\n"
     ]
    },
    {
     "name": "stdout",
     "output_type": "stream",
     "text": [
      "Odd\n"
     ]
    }
   ],
   "source": [
    "#10.Write a program that checks if a given number is even or odd.\n",
    "\n",
    "num = int(input(\"Enter a number: \"))\n",
    "\n",
    "if num % 2 == 0:\n",
    "    print(\"Even\")\n",
    "else:\n",
    "    print(\"Odd\")\n"
   ]
  },
  {
   "cell_type": "code",
   "execution_count": null,
   "id": "58e1a7a8-b2ee-454d-93d9-3b05afaa305f",
   "metadata": {},
   "outputs": [],
   "source": [
    "#INTERMEDIATE LEVEL"
   ]
  },
  {
   "cell_type": "code",
   "execution_count": 9,
   "id": "2395f301-571e-4432-860f-2afc8ebc3125",
   "metadata": {},
   "outputs": [
    {
     "name": "stdin",
     "output_type": "stream",
     "text": [
      "Enter the coefficient 'a':  5\n",
      "Enter the coefficient 'b':  2\n",
      "Enter the coefficient 'c':  6\n"
     ]
    },
    {
     "name": "stdout",
     "output_type": "stream",
     "text": [
      "Roots are complex: -0.2 + 1.0770329614269007i and -0.2 - 1.0770329614269007i\n"
     ]
    }
   ],
   "source": [
    "#11.11. Write a program that calculates the roots of a quadratic equation .\n",
    "\n",
    "import math\n",
    "\n",
    "# Get coefficients from the user\n",
    "a = float(input(\"Enter the coefficient 'a': \"))\n",
    "b = float(input(\"Enter the coefficient 'b': \"))\n",
    "c = float(input(\"Enter the coefficient 'c': \"))\n",
    "\n",
    "# Calculate the discriminant\n",
    "discriminant = b**2 - 4*a*c\n",
    "\n",
    "if discriminant > 0:\n",
    "    root1 = (-b + math.sqrt(discriminant)) / (2*a)\n",
    "    root2 = (-b - math.sqrt(discriminant)) / (2*a)\n",
    "    print(f\"Roots are real and different: {root1} and {root2}\")\n",
    "elif discriminant == 0:\n",
    "    root = -b / (2*a)\n",
    "    print(f\"Root is real and equal: {root}\")\n",
    "else:\n",
    "    real_part = -b / (2*a)\n",
    "    imag_part = math.sqrt(abs(discriminant)) / (2*a)\n",
    "    print(f\"Roots are complex: {real_part} + {imag_part}i and {real_part} - {imag_part}i\")\n"
   ]
  },
  {
   "cell_type": "code",
   "execution_count": 10,
   "id": "e1e2b7d9-77b1-4d4e-9c96-68652a4794e9",
   "metadata": {},
   "outputs": [
    {
     "name": "stdin",
     "output_type": "stream",
     "text": [
      "Enter the day number (1-7):  2\n"
     ]
    },
    {
     "name": "stdout",
     "output_type": "stream",
     "text": [
      "Day 2 is Monday\n"
     ]
    }
   ],
   "source": [
    "#12.Create a program that determines the day of the week based on the day number (1-7).\n",
    "\n",
    "day_number = int(input(\"Enter the day number (1-7): \"))\n",
    "\n",
    "days_of_week = [\"Sunday\", \"Monday\", \"Tuesday\", \"Wednesday\", \"Thursday\", \"Friday\", \"Saturday\"]\n",
    "\n",
    "if 1 <= day_number <= 7:\n",
    "    day_name = days_of_week[day_number - 1]\n",
    "    print(f\"Day {day_number} is {day_name}\")\n",
    "else:\n",
    "    print(\"Invalid day number. Please enter a number between 1 and 7.\")\n"
   ]
  },
  {
   "cell_type": "code",
   "execution_count": null,
   "id": "c92a9c67-89b5-4fdc-9288-42e648804552",
   "metadata": {},
   "outputs": [],
   "source": [
    "#13.Develop a program that calculates the factorial of a given number using recursion.\n",
    "\n",
    "\n",
    "def factorial(n):\n",
    "    if n == 0:\n",
    "        return 1\n",
    "    else:\n",
    "        return n * factorial(n - 1)\n",
    "\n",
    "num = int(input(\"Enter a number: \"))\n",
    "if num < 0:\n",
    "    print(\"Factorial is not defined for negative numbers.\")\n",
    "else:\n",
    "    result = factorial(num)\n",
    "    print(f\"Factorial of {num} is {result}\")\n"
   ]
  },
  {
   "cell_type": "code",
   "execution_count": 1,
   "id": "fbef21d7-ad51-49cc-8726-d350c85ce46d",
   "metadata": {},
   "outputs": [
    {
     "name": "stdin",
     "output_type": "stream",
     "text": [
      "Enter the first number:  6\n",
      "Enter the second number:  8\n",
      "Enter the third number:  9\n"
     ]
    },
    {
     "name": "stdout",
     "output_type": "stream",
     "text": [
      "The largest number is: 9.0\n"
     ]
    }
   ],
   "source": [
    "#14.Write a program to find the largest among three numbers without using the `max()` function.\n",
    "\n",
    "def find_largest(a, b, c):\n",
    "    if a >= b and a >= c:\n",
    "        return a\n",
    "    elif b >= a and b >= c:\n",
    "        return b\n",
    "    else:\n",
    "        return c\n",
    "\n",
    "num1 = float(input(\"Enter the first number: \"))\n",
    "num2 = float(input(\"Enter the second number: \"))\n",
    "num3 = float(input(\"Enter the third number: \"))\n",
    "\n",
    "largest = find_largest(num1, num2, num3)\n",
    "print(\"The largest number is:\", largest)\n",
    "\n"
   ]
  },
  {
   "cell_type": "code",
   "execution_count": null,
   "id": "205ec6c8-1b1b-4cdf-bc20-cf8a5fbac613",
   "metadata": {},
   "outputs": [],
   "source": [
    "#15. Create a program that simulates a basic ATM transaction menu.\n",
    "\n",
    "balance = 1000  # Initial balance\n",
    "\n",
    "while True:\n",
    "    print(\"1. Check Balance\")\n",
    "    print(\"2. Deposit\")\n",
    "    print(\"3. Withdraw\")\n",
    "    print(\"4. Exit\")\n",
    "    \n",
    "    choice = int(input(\"Enter your choice: \"))\n",
    "    \n",
    "    if choice == 1:\n",
    "        print(f\"Your balance is ${balance}\")\n",
    "    elif choice == 2:\n",
    "        deposit_amount = float(input(\"Enter the deposit amount: \"))\n",
    "        balance += deposit_amount\n",
    "        print(f\"Deposit of ${deposit_amount} successful.\")\n",
    "    elif choice == 3:\n",
    "        withdraw_amount = float(input(\"Enter the withdrawal amount: \"))\n",
    "        if withdraw_amount <= balance:\n",
    "            balance -= withdraw_amount\n",
    "            print(f\"Withdrawal of ${withdraw_amount} successful.\")\n",
    "        else:\n",
    "            print(\"Insufficient balance.\")\n",
    "    elif choice == 4:\n",
    "        print(\"Exiting the ATM. Thank you!\")\n",
    "        break\n",
    "    else:\n",
    "        print(\"Invalid choice. Please try again.\")\n"
   ]
  },
  {
   "cell_type": "code",
   "execution_count": 2,
   "id": "494c64eb-e0b2-4730-88cc-5d953c7e679a",
   "metadata": {},
   "outputs": [
    {
     "name": "stdin",
     "output_type": "stream",
     "text": [
      "Enter a string:  hello\n"
     ]
    },
    {
     "name": "stdout",
     "output_type": "stream",
     "text": [
      "It's not a palindrome.\n"
     ]
    }
   ],
   "source": [
    "#16.Build a program that checks if a given string is a palindrome or not.\n",
    "\n",
    "def is_palindrome(s):\n",
    "    s = s.lower().replace(\" \", \"\")  # Convert to lowercase and remove spaces\n",
    "    return s == s[::-1]\n",
    "\n",
    "input_string = input(\"Enter a string: \")\n",
    "if is_palindrome(input_string):\n",
    "    print(\"It's a palindrome.\")\n",
    "else:\n",
    "    print(\"It's not a palindrome.\")\n"
   ]
  },
  {
   "cell_type": "code",
   "execution_count": 3,
   "id": "ecdc07fd-50ec-4326-b46a-c8b470a35b4c",
   "metadata": {},
   "outputs": [
    {
     "name": "stdin",
     "output_type": "stream",
     "text": [
      "Enter a list of numbers separated by spaces:  5\n"
     ]
    },
    {
     "name": "stdout",
     "output_type": "stream",
     "text": [
      "Average (excluding smallest and largest): Not enough numbers to calculate an average.\n"
     ]
    }
   ],
   "source": [
    "#17.Write a program that calculates the average of a list of numbers, excluding the smallest and largest values.\n",
    "\n",
    "def calculate_average(numbers):\n",
    "    if len(numbers) < 3:\n",
    "        return \"Not enough numbers to calculate an average.\"\n",
    "    \n",
    "    numbers.remove(max(numbers))\n",
    "    numbers.remove(min(numbers))\n",
    "    \n",
    "    total = sum(numbers)\n",
    "    average = total / len(numbers)\n",
    "    return average\n",
    "\n",
    "num_list = [float(x) for x in input(\"Enter a list of numbers separated by spaces: \").split()]\n",
    "result = calculate_average(num_list)\n",
    "print(f\"Average (excluding smallest and largest): {result}\")\n"
   ]
  },
  {
   "cell_type": "code",
   "execution_count": 14,
   "id": "9271fb0f-039c-4bde-8508-df527c666c09",
   "metadata": {},
   "outputs": [],
   "source": [
    "#18.Develop a program that converts a given temperature from Celsius to Fahrenheit.\n",
    "\n",
    "def celsius_to_fahrenheit(celsius):\n",
    "    return (celsius * 9/5) + 32\n",
    "\n",
    "celsius_temp = float(input(\"Enter temperature in Celsius: \"))\n",
    "fahrenheit_temp = celsius_to_fahrenheit(celsius_temp)\n",
    "print(f\"{celsius_temp}°C is equal to {fahrenheit_temp}°F\")\n"
   ]
  },
  {
   "cell_type": "code",
   "execution_count": 4,
   "id": "931b48da-0456-46cb-9d13-a87a42adcd1d",
   "metadata": {},
   "outputs": [
    {
     "name": "stdout",
     "output_type": "stream",
     "text": [
      "Options:\n",
      "1. Add\n",
      "2. Subtract\n",
      "3. Multiply\n",
      "4. Divide\n"
     ]
    },
    {
     "name": "stdin",
     "output_type": "stream",
     "text": [
      "Enter choice (1/2/3/4):  3\n",
      "Enter first number:  5\n",
      "Enter second number:  6\n"
     ]
    },
    {
     "name": "stdout",
     "output_type": "stream",
     "text": [
      "Result: 30.0\n"
     ]
    }
   ],
   "source": [
    "#19.Create a program that simulates a basic calculator for addition, subtraction, multiplication, and division.\n",
    "\n",
    "def add(x, y):\n",
    "    return x + y\n",
    "\n",
    "def subtract(x, y):\n",
    "    return x - y\n",
    "\n",
    "def multiply(x, y):\n",
    "    return x * y\n",
    "\n",
    "def divide(x, y):\n",
    "    if y != 0:\n",
    "        return x / y\n",
    "    else:\n",
    "        return \"Cannot divide by zero.\"\n",
    "\n",
    "print(\"Options:\")\n",
    "print(\"1. Add\")\n",
    "print(\"2. Subtract\")\n",
    "print(\"3. Multiply\")\n",
    "print(\"4. Divide\")\n",
    "\n",
    "choice = input(\"Enter choice (1/2/3/4): \")\n",
    "\n",
    "num1 = float(input(\"Enter first number: \"))\n",
    "num2 = float(input(\"Enter second number: \"))\n",
    "\n",
    "if choice == '1':\n",
    "    print(\"Result:\", add(num1, num2))\n",
    "elif choice == '2':\n",
    "    print(\"Result:\", subtract(num1, num2))\n",
    "elif choice == '3':\n",
    "    print(\"Result:\", multiply(num1, num2))\n",
    "elif choice == '4':\n",
    "    print(\"Result:\", divide(num1, num2))\n",
    "else:\n",
    "    print(\"Invalid choice.\")\n"
   ]
  },
  {
   "cell_type": "code",
   "execution_count": 16,
   "id": "90e57db6-db22-45f0-b304-d46889152ccb",
   "metadata": {},
   "outputs": [],
   "source": [
    "#20.Write a program that determines the roots of a cubic equation using the Cardano formula."
   ]
  },
  {
   "cell_type": "code",
   "execution_count": null,
   "id": "2c72b5a0-f151-43ff-bbfa-a6c11ac606de",
   "metadata": {},
   "outputs": [],
   "source": [
    "ADVANCED LEVEL:"
   ]
  },
  {
   "cell_type": "code",
   "execution_count": 38,
   "id": "2173bc3d-efd6-4c16-b6b6-33e77986659a",
   "metadata": {},
   "outputs": [
    {
     "name": "stdin",
     "output_type": "stream",
     "text": [
      "Enter your income:  6.2\n"
     ]
    },
    {
     "name": "stdout",
     "output_type": "stream",
     "text": [
      "Income tax is: 0.6200000000000001\n"
     ]
    }
   ],
   "source": [
    "#21.Create a program that calculates the income tax based on the user's income and tax brackets.\n",
    "\n",
    "# Input user's income\n",
    "income = float(input(\"Enter your income: \"))\n",
    "\n",
    "# Define tax brackets and rates\n",
    "brackets = [10000, 20000, 30000, 50000]\n",
    "rates = [0.1, 0.2, 0.3, 0.4, 0.5]\n",
    "\n",
    "# Calculate income tax\n",
    "tax = 0\n",
    "remaining_income = income\n",
    "\n",
    "for i in range(len(brackets)):\n",
    "    if remaining_income <= 0:\n",
    "        break\n",
    "    if i < len(brackets) - 1 and remaining_income > brackets[i]:\n",
    "        taxable_amount = brackets[i]\n",
    "    else:\n",
    "        taxable_amount = remaining_income\n",
    "    tax += taxable_amount * rates[i]\n",
    "    remaining_income -= taxable_amount\n",
    "\n",
    "print(\"Income tax is:\", tax)\n",
    "\n"
   ]
  },
  {
   "cell_type": "code",
   "execution_count": 45,
   "id": "b57f4336-7171-4037-85dd-82d157a80e9a",
   "metadata": {},
   "outputs": [
    {
     "name": "stdin",
     "output_type": "stream",
     "text": [
      "Enter your choice (rock, paper, or scissors):  scissors\n"
     ]
    },
    {
     "name": "stdout",
     "output_type": "stream",
     "text": [
      "Computer chose: paper\n",
      "You win!\n"
     ]
    }
   ],
   "source": [
    "#22.Write a program that simulates a rock-paper-scissors game against the computer.\n",
    "\n",
    "import random\n",
    "\n",
    "# User input\n",
    "user_choice = input(\"Enter your choice (rock, paper, or scissors): \")\n",
    "\n",
    "# Computer's choice\n",
    "choices = [\"rock\", \"paper\", \"scissors\"]\n",
    "computer_choice = random.choice(choices)\n",
    "\n",
    "# Determine the winner\n",
    "if user_choice == computer_choice:\n",
    "    result = \"It's a tie!\"\n",
    "elif (\n",
    "    (user_choice == \"rock\" and computer_choice == \"scissors\") or\n",
    "    (user_choice == \"paper\" and computer_choice == \"rock\") or\n",
    "    (user_choice == \"scissors\" and computer_choice == \"paper\")\n",
    "):\n",
    "    result = \"You win!\"\n",
    "else:\n",
    "    result = \"Computer wins!\"\n",
    "\n",
    "print(\"Computer chose:\", computer_choice)\n",
    "print(result)\n",
    "\n",
    "\n",
    "\n",
    "\n",
    "\n"
   ]
  },
  {
   "cell_type": "code",
   "execution_count": 46,
   "id": "753564fc-5f1a-48fb-86df-2d7e845553f4",
   "metadata": {},
   "outputs": [
    {
     "name": "stdin",
     "output_type": "stream",
     "text": [
      "Enter password length:  5\n",
      "Enter password complexity (low, medium, high):  high\n"
     ]
    },
    {
     "name": "stdout",
     "output_type": "stream",
     "text": [
      "Generated password: WCQ8I\n"
     ]
    }
   ],
   "source": [
    "#23. Develop a program that generates a random password based on user preferences (length, complexity).\n",
    "\n",
    "\n",
    "import random\n",
    "import string\n",
    "\n",
    "# Input password length and complexity\n",
    "length = int(input(\"Enter password length: \"))\n",
    "complexity = input(\"Enter password complexity (low, medium, high): \")\n",
    "\n",
    "# Define character sets based on complexity\n",
    "if complexity == \"low\":\n",
    "    characters = string.ascii_letters\n",
    "elif complexity == \"medium\":\n",
    "    characters = string.ascii_letters + string.digits\n",
    "elif complexity == \"high\":\n",
    "    characters = string.ascii_letters + string.digits + string.punctuation\n",
    "else:\n",
    "    print(\"Invalid complexity level.\")\n",
    "    exit()\n",
    "\n",
    "# Generate random password\n",
    "password = ''.join(random.choice(characters) for _ in range(length))\n",
    "\n",
    "print(\"Generated password:\", password)\n",
    "\n",
    "\n"
   ]
  },
  {
   "cell_type": "code",
   "execution_count": 47,
   "id": "7c009dc2-079c-4959-9639-df4c3d28659f",
   "metadata": {},
   "outputs": [
    {
     "name": "stdin",
     "output_type": "stream",
     "text": [
      "Enter coefficient a:  2\n",
      "Enter coefficient b:  5\n"
     ]
    },
    {
     "name": "stdout",
     "output_type": "stream",
     "text": [
      "Solution: x = -2.5\n"
     ]
    }
   ],
   "source": [
    "#24.. Create a program that implements a simple text-based adventure game with branching scenarios.\n",
    "\n",
    "# Input coefficients\n",
    "a = float(input(\"Enter coefficient a: \"))\n",
    "b = float(input(\"Enter coefficient b: \"))\n",
    "\n",
    "# Solve the linear equation for x\n",
    "if a == 0:\n",
    "    if b == 0:\n",
    "        print(\"Infinite solutions (0 = 0).\")\n",
    "    else:\n",
    "        print(\"No solution (0 ≠\", b, \").\")\n",
    "else:\n",
    "    x = -b / a\n",
    "    print(\"Solution: x =\", x)\n"
   ]
  },
  {
   "cell_type": "code",
   "execution_count": 51,
   "id": "af6bafd5-c321-4c37-ae82-823b83cc2638",
   "metadata": {},
   "outputs": [
    {
     "name": "stdin",
     "output_type": "stream",
     "text": [
      "Enter coefficient 'a':  2\n",
      "Enter coefficient 'b':  5\n"
     ]
    },
    {
     "name": "stdout",
     "output_type": "stream",
     "text": [
      "Solution: x = -2.5\n"
     ]
    }
   ],
   "source": [
    "#25. Build a program that solves a linear equation for x, considering different cases.\n",
    "\n",
    "# Input coefficients\n",
    "a = float(input(\"Enter coefficient 'a': \"))\n",
    "b = float(input(\"Enter coefficient 'b': \"))\n",
    "\n",
    "# Check different cases of linear equations and solve for 'x'\n",
    "if a == 0:\n",
    "    if b == 0:\n",
    "        print(\"Infinite solutions: any value of 'x' is a solution.\")\n",
    "    else:\n",
    "        print(\"No solution: the equation is not valid.\")\n",
    "else:\n",
    "    x = -b / a\n",
    "    print(\"Solution: x =\", x)\n"
   ]
  },
  {
   "cell_type": "code",
   "execution_count": 52,
   "id": "12e4c133-1b31-49cb-90e2-1de67cca89d5",
   "metadata": {},
   "outputs": [
    {
     "name": "stdout",
     "output_type": "stream",
     "text": [
      "Question 1: What is the capital of France?\n",
      "A) London\n",
      "B) Berlin\n",
      "C) Paris\n",
      "D) Madrid\n"
     ]
    },
    {
     "name": "stdin",
     "output_type": "stream",
     "text": [
      "Enter your answer (A/B/C/D):  B\n"
     ]
    },
    {
     "name": "stdout",
     "output_type": "stream",
     "text": [
      "Wrong! The correct answer is C.\n",
      "\n",
      "Question 2: Which planet is known as the Red Planet?\n",
      "A) Venus\n",
      "B) Mars\n",
      "C) Jupiter\n",
      "D) Saturn\n"
     ]
    },
    {
     "name": "stdin",
     "output_type": "stream",
     "text": [
      "Enter your answer (A/B/C/D):  D\n"
     ]
    },
    {
     "name": "stdout",
     "output_type": "stream",
     "text": [
      "Wrong! The correct answer is B.\n",
      "\n",
      "Question 3: What is 7 multiplied by 8?\n",
      "A) 14\n",
      "B) 56\n",
      "C) 64\n",
      "D) 72\n"
     ]
    },
    {
     "name": "stdin",
     "output_type": "stream",
     "text": [
      "Enter your answer (A/B/C/D):  B\n"
     ]
    },
    {
     "name": "stdout",
     "output_type": "stream",
     "text": [
      "Correct!\n",
      "\n",
      "Your score: 1 out of 3\n"
     ]
    }
   ],
   "source": [
    "#26.Write a program that simulates a basic quiz game with multiple-choice questions and scoring.\n",
    "\n",
    "# Define the quiz questions and answer choices\n",
    "questions = [\n",
    "    {\n",
    "        \"question\": \"What is the capital of France?\",\n",
    "        \"choices\": [\"A) London\", \"B) Berlin\", \"C) Paris\", \"D) Madrid\"],\n",
    "        \"correct\": \"C\"\n",
    "    },\n",
    "    {\n",
    "        \"question\": \"Which planet is known as the Red Planet?\",\n",
    "        \"choices\": [\"A) Venus\", \"B) Mars\", \"C) Jupiter\", \"D) Saturn\"],\n",
    "        \"correct\": \"B\"\n",
    "    },\n",
    "    {\n",
    "        \"question\": \"What is 7 multiplied by 8?\",\n",
    "        \"choices\": [\"A) 14\", \"B) 56\", \"C) 64\", \"D) 72\"],\n",
    "        \"correct\": \"B\"\n",
    "    }\n",
    "]\n",
    "\n",
    "# Initialize the score\n",
    "score = 0\n",
    "\n",
    "# Iterate through the questions\n",
    "for i, question in enumerate(questions, 1):\n",
    "    print(f\"Question {i}: {question['question']}\")\n",
    "    for choice in question['choices']:\n",
    "        print(choice)\n",
    "    \n",
    "    # Get the user's answer\n",
    "    user_answer = input(\"Enter your answer (A/B/C/D): \").upper()\n",
    "    \n",
    "    # Check if the answer is correct\n",
    "    if user_answer == question['correct']:\n",
    "        print(\"Correct!\\n\")\n",
    "        score += 1\n",
    "    else:\n",
    "        print(f\"Wrong! The correct answer is {question['correct']}.\\n\")\n",
    "\n",
    "# Display the final score\n",
    "print(f\"Your score: {score} out of {len(questions)}\")\n"
   ]
  },
  {
   "cell_type": "code",
   "execution_count": 48,
   "id": "e0afa8bd-690d-4102-bc84-27831411e4c3",
   "metadata": {},
   "outputs": [
    {
     "name": "stdin",
     "output_type": "stream",
     "text": [
      "Enter a year:  2008\n"
     ]
    },
    {
     "name": "stdout",
     "output_type": "stream",
     "text": [
      "2008 is not a prime year.\n"
     ]
    }
   ],
   "source": [
    "#27. Develop a program that determines whether a given year is a prime number or not.\n",
    "\n",
    "# Input a year\n",
    "year = int(input(\"Enter a year: \"))\n",
    "\n",
    "# Check if it's a prime year\n",
    "is_prime = True\n",
    "if year <= 1:\n",
    "    is_prime = False\n",
    "else:\n",
    "    for i in range(2, int(year ** 0.5) + 1):\n",
    "        if year % i == 0:\n",
    "            is_prime = False\n",
    "            break\n",
    "\n",
    "if is_prime:\n",
    "    print(year, \"is a prime year.\")\n",
    "else:\n",
    "    print(year, \"is not a prime year.\")\n",
    "\n"
   ]
  },
  {
   "cell_type": "code",
   "execution_count": 50,
   "id": "aff9985c-0212-46f0-b0a0-a3c7470a2c5c",
   "metadata": {},
   "outputs": [
    {
     "name": "stdin",
     "output_type": "stream",
     "text": [
      "Enter the first number:  9\n",
      "Enter the second number:  4\n",
      "Enter the third number:  10\n"
     ]
    },
    {
     "name": "stdout",
     "output_type": "stream",
     "text": [
      "Sorted numbers: [4.0, 9.0, 10.0]\n"
     ]
    }
   ],
   "source": [
    "#28.Create a program that sorts three numbers in ascending order using conditional statements.\n",
    "\n",
    "# Input three numbers\n",
    "num1 = float(input(\"Enter the first number: \"))\n",
    "num2 = float(input(\"Enter the second number: \"))\n",
    "num3 = float(input(\"Enter the third number: \"))\n",
    "\n",
    "# Sort the numbers\n",
    "if num1 <= num2 <= num3:\n",
    "    sorted_numbers = [num1, num2, num3]\n",
    "elif num1 <= num3 <= num2:\n",
    "    sorted_numbers = [num1, num3, num2]\n",
    "elif num2 <= num1 <= num3:\n",
    "    sorted_numbers = [num2, num1, num3]\n",
    "elif num2 <= num3 <= num1:\n",
    "    sorted_numbers = [num2, num3, num1]\n",
    "elif num3 <= num1 <= num2:\n",
    "    sorted_numbers = [num3, num1, num2]\n",
    "else:\n",
    "    sorted_numbers = [num3, num2, num1]\n",
    "\n",
    "print(\"Sorted numbers:\", sorted_numbers)\n",
    "\n"
   ]
  },
  {
   "cell_type": "code",
   "execution_count": 53,
   "id": "569bd4bf-4551-41f3-b030-509bb4238b46",
   "metadata": {},
   "outputs": [
    {
     "name": "stdout",
     "output_type": "stream",
     "text": [
      "Root: 0.0000\n",
      "Root: 1.0000\n",
      "Root: 2.0000\n",
      "Root: 3.0000\n"
     ]
    }
   ],
   "source": [
    "#29 Build a program that determines the roots of a quartic equation using numerical methods.\n",
    "\n",
    "import sympy as sp\n",
    "\n",
    "# Define the variable and the equation\n",
    "x = sp.symbols('x')\n",
    "equation = x**4 - 6*x**3 + 11*x**2 - 6*x\n",
    "\n",
    "# Find the roots numerically using Newton-Raphson method\n",
    "roots = sp.solve(equation, x)\n",
    "\n",
    "# Display the roots\n",
    "for root in roots:\n",
    "    print(f\"Root: {root:.4f}\")\n"
   ]
  },
  {
   "cell_type": "code",
   "execution_count": 26,
   "id": "2c907062-6a07-4c47-bff1-66bfb2b8538b",
   "metadata": {},
   "outputs": [],
   "source": [
    "#30.Write a program that calculates the BMI (Body Mass Index) and provides health recommendations based on the user's input.\n",
    "\n",
    "# Input weight (in kilograms) and height (in meters)\n",
    "weight = float(input(\"Enter your weight (kg): \"))\n",
    "height = float(input(\"Enter your height (m): \"))\n",
    "\n",
    "# Calculate BMI\n",
    "bmi = weight / (height ** 2)\n",
    "\n",
    "# Determine BMI category and provide recommendations\n",
    "if bmi < 18.5:\n",
    "    category = \"Underweight\"\n",
    "    recommendation = \"You may want to consider gaining some weight.\"\n",
    "elif 18.5 <= bmi < 24.9:\n",
    "    category = \"Normal\"\n",
    "    recommendation = \"Your weight is in a healthy range.\"\n",
    "elif 25 <= bmi < 29.9:\n",
    "    category = \"Overweight\"\n",
    "    recommendation = \"You may want to consider losing some weight for better health.\"\n",
    "else:\n",
    "    category = \"Obese\"\n",
    "    recommendation = \"You should consult a healthcare professional for weight management.\"\n",
    "\n",
    "print(\"BMI category:\", category)\n",
    "print(\"Recommendation:\", recommendation)\n"
   ]
  },
  {
   "cell_type": "code",
   "execution_count": 3,
   "id": "791e4ed3-691c-4ef8-a0d4-2d5b8f142b2c",
   "metadata": {},
   "outputs": [
    {
     "name": "stdout",
     "output_type": "stream",
     "text": [
      "Password is valid\n"
     ]
    }
   ],
   "source": [
    "#31.Create a program that validates a password based on complexity rules (length, characters, etc.).\n",
    "\n",
    "import re\n",
    "\n",
    "def is_valid_password(password):\n",
    "    # Password should have at least 8 characters\n",
    "    if len(password) < 8:\n",
    "        return False\n",
    "\n",
    "    # Password should contain at least one uppercase letter\n",
    "    if not any(char.isupper() for char in password):\n",
    "        return False\n",
    "\n",
    "    # Password should contain at least one lowercase letter\n",
    "    if not any(char.islower() for char in password):\n",
    "        return False\n",
    "\n",
    "    # Password should contain at least one digit\n",
    "    if not any(char.isdigit() for char in password):\n",
    "        return False\n",
    "\n",
    "    # Password should contain at least one special character\n",
    "    if not re.search(r'[!@#$%^&*()_+{}[\\]:;<>,.?~\\\\\\-]', password):\n",
    "        return False\n",
    "\n",
    "    return True\n",
    "\n",
    "password = \"Passw0rd$\"\n",
    "if is_valid_password(password):\n",
    "    print(\"Password is valid\")\n",
    "else:\n",
    "    print(\"Password is not valid\")\n"
   ]
  },
  {
   "cell_type": "code",
   "execution_count": 4,
   "id": "5ac965f1-2cdd-44bd-b631-42809f2270d1",
   "metadata": {},
   "outputs": [
    {
     "name": "stdout",
     "output_type": "stream",
     "text": [
      "Matrix Addition Result:\n",
      "[[ 6  8]\n",
      " [10 12]]\n",
      "\n",
      "Matrix Subtraction Result:\n",
      "[[-4 -4]\n",
      " [-4 -4]]\n"
     ]
    }
   ],
   "source": [
    "#32. Develop a program that performs matrix addition and subtraction based on user input.\n",
    "\n",
    "import numpy as np\n",
    "\n",
    "# Input matrices\n",
    "A = np.array([[1, 2], [3, 4]])\n",
    "B = np.array([[5, 6], [7, 8]])\n",
    "\n",
    "# Matrix addition\n",
    "result_add = A + B\n",
    "\n",
    "# Matrix subtraction\n",
    "result_subtract = A - B\n",
    "\n",
    "print(\"Matrix Addition Result:\")\n",
    "print(result_add)\n",
    "\n",
    "print(\"\\nMatrix Subtraction Result:\")\n",
    "print(result_subtract)\n"
   ]
  },
  {
   "cell_type": "code",
   "execution_count": 5,
   "id": "7b9883e0-9e1d-4f50-9c67-ff7c380c199f",
   "metadata": {},
   "outputs": [
    {
     "name": "stdout",
     "output_type": "stream",
     "text": [
      "GCD of 48 and 18 is 6\n"
     ]
    }
   ],
   "source": [
    "#33. Write a program that calculates the greatest common divisor (GCD) of two numbers using the Euclidean algorithm.\n",
    "\n",
    "import math\n",
    "\n",
    "num1 = 48\n",
    "num2 = 18\n",
    "\n",
    "gcd = math.gcd(num1, num2)\n",
    "print(\"GCD of\", num1, \"and\", num2, \"is\", gcd)\n",
    "\n"
   ]
  },
  {
   "cell_type": "code",
   "execution_count": 6,
   "id": "9c8cd63c-63c0-40f3-84f1-a9e2599c1c28",
   "metadata": {},
   "outputs": [
    {
     "name": "stdout",
     "output_type": "stream",
     "text": [
      "[19, 22]\n",
      "[43, 50]\n"
     ]
    }
   ],
   "source": [
    "#34.Build a program that performs matrix multiplication using nested loops and conditional statements.\n",
    "\n",
    "def matrix_multiply(A, B):\n",
    "    result = [[0 for _ in range(len(B[0]))] for _ in range(len(A))]\n",
    "    for i in range(len(A)):\n",
    "        for j in range(len(B[0])):\n",
    "            for k in range(len(B)):\n",
    "                result[i][j] += A[i][k] * B[k][j]\n",
    "    return result\n",
    "\n",
    "A = [[1, 2], [3, 4]]\n",
    "B = [[5, 6], [7, 8]]\n",
    "result_multiply = matrix_multiply(A, B)\n",
    "for row in result_multiply:\n",
    "    print(row)\n"
   ]
  },
  {
   "cell_type": "code",
   "execution_count": 8,
   "id": "241885b7-1494-4b4a-bec6-dec3332cad0c",
   "metadata": {},
   "outputs": [
    {
     "name": "stdout",
     "output_type": "stream",
     "text": [
      "  |   |  \n",
      "---------\n",
      "  |   |  \n",
      "---------\n",
      "  |   |  \n",
      "---------\n"
     ]
    },
    {
     "name": "stdin",
     "output_type": "stream",
     "text": [
      "Enter row and column (e.g., 1 2):  1 1\n"
     ]
    },
    {
     "name": "stdout",
     "output_type": "stream",
     "text": [
      "  |   |  \n",
      "---------\n",
      "  | X |  \n",
      "---------\n",
      "  |   |  \n",
      "---------\n",
      "  |   |  \n",
      "---------\n",
      "  | X |  \n",
      "---------\n",
      "  |   | O\n",
      "---------\n"
     ]
    },
    {
     "name": "stdin",
     "output_type": "stream",
     "text": [
      "Enter row and column (e.g., 1 2):  2 2\n"
     ]
    },
    {
     "name": "stdout",
     "output_type": "stream",
     "text": [
      "  |   |  \n",
      "---------\n",
      "  | X |  \n",
      "---------\n",
      "  |   | O\n",
      "---------\n"
     ]
    },
    {
     "name": "stdin",
     "output_type": "stream",
     "text": [
      "Enter row and column (e.g., 1 2):  0 1\n"
     ]
    },
    {
     "name": "stdout",
     "output_type": "stream",
     "text": [
      "  | X |  \n",
      "---------\n",
      "  | X |  \n",
      "---------\n",
      "  |   | O\n",
      "---------\n",
      "  | X |  \n",
      "---------\n",
      "  | X | O\n",
      "---------\n",
      "  |   | O\n",
      "---------\n"
     ]
    },
    {
     "name": "stdin",
     "output_type": "stream",
     "text": [
      "Enter row and column (e.g., 1 2):  0 2\n"
     ]
    },
    {
     "name": "stdout",
     "output_type": "stream",
     "text": [
      "  | X | X\n",
      "---------\n",
      "  | X | O\n",
      "---------\n",
      "  |   | O\n",
      "---------\n",
      "  | X | X\n",
      "---------\n",
      "  | X | O\n",
      "---------\n",
      "  | O | O\n",
      "---------\n"
     ]
    },
    {
     "name": "stdin",
     "output_type": "stream",
     "text": [
      "Enter row and column (e.g., 1 2):  0 0\n"
     ]
    },
    {
     "name": "stdout",
     "output_type": "stream",
     "text": [
      "X | X | X\n",
      "---------\n",
      "  | X | O\n",
      "---------\n",
      "  | O | O\n",
      "---------\n",
      "X wins!\n"
     ]
    }
   ],
   "source": [
    "#35. Create a program that simulates a basic text-based tic-tac-toe game against the computer.\n",
    "\n",
    "import random\n",
    "\n",
    "def print_board(board):\n",
    "    for row in board:\n",
    "        print(\" | \".join(row))\n",
    "        print(\"-\" * 9)\n",
    "\n",
    "def check_win(board, player):\n",
    "    for row in board:\n",
    "        if all(cell == player for cell in row):\n",
    "            return True\n",
    "    for col in range(3):\n",
    "        if all(board[row][col] == player for row in range(3)):\n",
    "            return True\n",
    "    if all(board[i][i] == player for i in range(3)) or all(board[i][2 - i] == player for i in range(3)):\n",
    "        return True\n",
    "    return False\n",
    "\n",
    "def is_full(board):\n",
    "    return all(cell != \" \" for row in board for cell in row)\n",
    "\n",
    "def computer_move(board):\n",
    "    while True:\n",
    "        row = random.randint(0, 2)\n",
    "        col = random.randint(0, 2)\n",
    "        if board[row][col] == \" \":\n",
    "            return row, col\n",
    "\n",
    "def play_tic_tac_toe():\n",
    "    board = [[\" \" for _ in range(3)] for _ in range(3)]\n",
    "    player = \"X\"\n",
    "    computer = \"O\"\n",
    "\n",
    "    while True:\n",
    "        print_board(board)\n",
    "\n",
    "        if player == \"X\":\n",
    "            row, col = map(int, input(\"Enter row and column (e.g., 1 2): \").split())\n",
    "        else:\n",
    "            row, col = computer_move(board)\n",
    "\n",
    "        if board[row][col] == \" \":\n",
    "            board[row][col] = player\n",
    "\n",
    "            if check_win(board, player):\n",
    "                print_board(board)\n",
    "                print(f\"{player} wins!\")\n",
    "                break\n",
    "\n",
    "            if is_full(board):\n",
    "                print_board(board)\n",
    "                print(\"It's a tie!\")\n",
    "                break\n",
    "\n",
    "            player, computer = computer, player\n",
    "\n",
    "if __name__ == \"__main__\":\n",
    "    play_tic_tac_toe()\n"
   ]
  },
  {
   "cell_type": "code",
   "execution_count": 7,
   "id": "6b695705-8a0f-41f9-94a6-8cd6125e999b",
   "metadata": {},
   "outputs": [
    {
     "name": "stdout",
     "output_type": "stream",
     "text": [
      "[0, 1, 1, 2, 3, 5, 8, 13, 21, 34]\n"
     ]
    }
   ],
   "source": [
    "#36. Write a program that generates Fibonacci numbers up to a specified term using iterative methods.\n",
    "\n",
    "def generate_fibonacci(n):\n",
    "    fibonacci = [0, 1]\n",
    "    while len(fibonacci) < n:\n",
    "        next_number = fibonacci[-1] + fibonacci[-2]\n",
    "        fibonacci.append(next_number)\n",
    "    return fibonacci\n",
    "\n",
    "n = 10\n",
    "fibonacci_sequence = generate_fibonacci(n)\n",
    "print(fibonacci_sequence)\n"
   ]
  },
  {
   "cell_type": "code",
   "execution_count": 9,
   "id": "fac0af97-a3ff-4676-91da-69d4ca380378",
   "metadata": {},
   "outputs": [
    {
     "name": "stdout",
     "output_type": "stream",
     "text": [
      "[0, 1, 1, 2, 3, 5, 8, 13, 21, 34]\n"
     ]
    }
   ],
   "source": [
    "#37. Develop a program that calculates the nth term of the Fibonacci sequence using memoization.\n",
    "\n",
    "memo = {}\n",
    "\n",
    "def fibonacci(n):\n",
    "    if n in memo:\n",
    "        return memo[n]\n",
    "    if n <= 1:\n",
    "        result = n\n",
    "    else:\n",
    "        result = fibonacci(n - 1) + fibonacci(n - 2)\n",
    "    memo[n] = result\n",
    "    return result\n",
    "\n",
    "n = 10\n",
    "fibonacci_sequence = [fibonacci(i) for i in range(n)]\n",
    "print(fibonacci_sequence)\n"
   ]
  },
  {
   "cell_type": "code",
   "execution_count": 10,
   "id": "9292ec76-6c29-45a0-91d8-7f7d90ef52dc",
   "metadata": {},
   "outputs": [
    {
     "name": "stdout",
     "output_type": "stream",
     "text": [
      "Calendar for September 2023:\n",
      "\n",
      "   September 2023\n",
      "Mo Tu We Th Fr Sa Su\n",
      "             1  2  3\n",
      " 4  5  6  7  8  9 10\n",
      "11 12 13 14 15 16 17\n",
      "18 19 20 21 22 23 24\n",
      "25 26 27 28 29 30\n",
      "\n"
     ]
    }
   ],
   "source": [
    "#38. Create a program that generates a calendar for a given month and year using conditional statements.\n",
    "\n",
    "import calendar\n",
    "\n",
    "year = 2023\n",
    "month = 9\n",
    "\n",
    "cal = calendar.month(year, month)\n",
    "print(f\"Calendar for {calendar.month_name[month]} {year}:\\n\")\n",
    "print(cal)\n"
   ]
  },
  {
   "cell_type": "code",
   "execution_count": 11,
   "id": "7fa62b8a-2e16-4e61-bdbb-fa7dd8b2d4eb",
   "metadata": {},
   "outputs": [
    {
     "name": "stdout",
     "output_type": "stream",
     "text": [
      "Your cards: [6, 2], current score: 8\n",
      "Computer's first card: 4\n"
     ]
    },
    {
     "name": "stdin",
     "output_type": "stream",
     "text": [
      "Type 'y' to get another card, 'n' to pass:  n\n"
     ]
    },
    {
     "name": "stdout",
     "output_type": "stream",
     "text": [
      "Your final hand: [6, 2], final score: 8\n",
      "Computer's final hand: [4, 11, 6], final score: 21\n",
      "You win!\n"
     ]
    }
   ],
   "source": [
    "#39.Build a program that simulates a basic text-based blackjack game against the computer.\n",
    "\n",
    "import random\n",
    "\n",
    "def deal_card():\n",
    "    cards = [2, 3, 4, 5, 6, 7, 8, 9, 10, 10, 10, 10, 11]  # 11 represents an Ace\n",
    "    return random.choice(cards)\n",
    "\n",
    "def calculate_score(hand):\n",
    "    if sum(hand) == 21 and len(hand) == 2:\n",
    "        return 0  # Blackjack\n",
    "    if 11 in hand and sum(hand) > 21:\n",
    "        hand.remove(11)\n",
    "        hand.append(1)\n",
    "    return sum(hand)\n",
    "\n",
    "def play_blackjack():\n",
    "    user_cards = [deal_card(), deal_card()]\n",
    "    computer_cards = [deal_card(), deal_card()]\n",
    "\n",
    "    while True:\n",
    "        user_score = calculate_score(user_cards)\n",
    "        computer_score = calculate_score(computer_cards)\n",
    "\n",
    "        print(f\"Your cards: {user_cards}, current score: {user_score}\")\n",
    "        print(f\"Computer's first card: {computer_cards[0]}\")\n",
    "\n",
    "        if user_score == 0 or computer_score == 0 or user_score > 21:\n",
    "            break\n",
    "\n",
    "        should_continue = input(\"Type 'y' to get another card, 'n' to pass: \").lower()\n",
    "        if should_continue == 'y':\n",
    "            user_cards.append(deal_card())\n",
    "        else:\n",
    "            break\n",
    "\n",
    "    while computer_score != 0 and computer_score < 17:\n",
    "        computer_cards.append(deal_card())\n",
    "        computer_score = calculate_score(computer_cards)\n",
    "\n",
    "    print(f\"Your final hand: {user_cards}, final score: {user_score}\")\n",
    "    print(f\"Computer's final hand: {computer_cards}, final score: {computer_score}\")\n",
    "\n",
    "    if user_score > 21:\n",
    "        return \"You went over. You lose!\"\n",
    "    elif computer_score > 21:\n",
    "        return \"Computer went over. You win!\"\n",
    "    elif user_score == computer_score:\n",
    "        return \"It's a draw!\"\n",
    "    elif user_score == 0 or (user_score < computer_score and computer_score <= 21):\n",
    "        return \"You win!\"\n",
    "    else:\n",
    "        return \"Computer wins!\"\n",
    "\n",
    "if __name__ == \"__main__\":\n",
    "    print(play_blackjack())\n"
   ]
  },
  {
   "cell_type": "code",
   "execution_count": 12,
   "id": "eefaedb1-5944-4af5-915e-daa7ad8ef1fb",
   "metadata": {},
   "outputs": [
    {
     "name": "stdout",
     "output_type": "stream",
     "text": [
      "[2, 2, 3, 3]\n"
     ]
    }
   ],
   "source": [
    "#40.Write a program that generates the prime factors of a given number using trial division.\n",
    "\n",
    "def prime_factors(n):\n",
    "    factors = []\n",
    "    divisor = 2\n",
    "    while n > 1:\n",
    "        while n % divisor == 0:\n",
    "            factors.append(divisor)\n",
    "            n //= divisor\n",
    "        divisor += 1\n",
    "    return factors\n",
    "\n",
    "number = 36\n",
    "prime_factors_list = prime_factors(number)\n",
    "print(prime_factors_list)\n"
   ]
  },
  {
   "cell_type": "code",
   "execution_count": null,
   "id": "d143203f-5b39-4dd9-91dd-32d599d2b9bf",
   "metadata": {},
   "outputs": [],
   "source": []
  }
 ],
 "metadata": {
  "kernelspec": {
   "display_name": "Python 3 (ipykernel)",
   "language": "python",
   "name": "python3"
  },
  "language_info": {
   "codemirror_mode": {
    "name": "ipython",
    "version": 3
   },
   "file_extension": ".py",
   "mimetype": "text/x-python",
   "name": "python",
   "nbconvert_exporter": "python",
   "pygments_lexer": "ipython3",
   "version": "3.10.8"
  }
 },
 "nbformat": 4,
 "nbformat_minor": 5
}
